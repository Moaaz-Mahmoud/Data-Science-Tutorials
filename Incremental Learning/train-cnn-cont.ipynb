{
 "cells": [
  {
   "cell_type": "code",
   "execution_count": 16,
   "metadata": {},
   "outputs": [],
   "source": [
    "# Signal that the script started working\n",
    "with open('train-status.txt', 'w') as file: file.write('0')"
   ]
  },
  {
   "cell_type": "code",
   "execution_count": 17,
   "metadata": {},
   "outputs": [],
   "source": [
    "import numpy as np\n",
    "import pandas as pd\n",
    "import tensorflow as tf\n",
    "from keras.preprocessing.image import ImageDataGenerator\n",
    "from tensorflow.keras.models import Sequential\n",
    "from tensorflow.keras.layers import Conv2D, MaxPool2D, Flatten, Dropout, Dense\n",
    "from tensorflow.keras.models import load_model\n",
    "from sklearn.preprocessing import LabelBinarizer\n",
    "from sklearn.model_selection import train_test_split\n",
    "import gc\n",
    "import sys"
   ]
  },
  {
   "cell_type": "code",
   "execution_count": 18,
   "metadata": {},
   "outputs": [],
   "source": [
    "data_train = np.load('dataset-split/batch-920.npy', allow_pickle=True) # Replace the string with sys.argv[0]\n",
    "data = pd.DataFrame(data_train, columns=['features','labels'])"
   ]
  },
  {
   "cell_type": "code",
   "execution_count": 19,
   "metadata": {},
   "outputs": [],
   "source": [
    "for i in data.index:\n",
    "    data['features'][i] = data['features'][i].reshape(226, 226, 3)"
   ]
  },
  {
   "cell_type": "code",
   "execution_count": 20,
   "metadata": {},
   "outputs": [],
   "source": [
    "from keras.utils import to_categorical\n",
    "\n",
    "# Get the input data\n",
    "X = np.stack(data['features'].to_numpy())\n",
    "\n",
    "# Normalize\n",
    "X = X / 255.0\n",
    "\n",
    "# Get the labels\n",
    "y = data['labels'].to_numpy()\n",
    "y = y.astype(int)\n",
    "\n",
    "# One-hot encode\n",
    "y = np.vectorize(lambda x: x//5 if x>1 else x)(y)\n",
    "\n",
    "# Subtract the minimum label value to ensure that label values start from 0\n",
    "y = y - np.min(y)\n",
    "\n",
    "# One-hot encode\n",
    "y = to_categorical(y, num_classes=3)"
   ]
  },
  {
   "cell_type": "code",
   "execution_count": 21,
   "metadata": {},
   "outputs": [],
   "source": [
    "# Split the data into training and testing sets (with stratification)\n",
    "X_train, X_test, y_train, y_test = train_test_split(X, y, test_size=0.2, stratify=y, random_state=42)"
   ]
  },
  {
   "cell_type": "code",
   "execution_count": 22,
   "metadata": {},
   "outputs": [
    {
     "data": {
      "text/plain": [
       "1465"
      ]
     },
     "execution_count": 22,
     "metadata": {},
     "output_type": "execute_result"
    }
   ],
   "source": [
    "del X\n",
    "del y\n",
    "gc.collect()"
   ]
  },
  {
   "cell_type": "code",
   "execution_count": 23,
   "metadata": {},
   "outputs": [],
   "source": [
    "# Load the saved model from the H5 file\n",
    "model_cnn = load_model('cnn.h5')\n",
    "\n",
    "# Compile the model\n",
    "model_cnn.compile(loss=\"categorical_crossentropy\", metrics=[\"accuracy\"], optimizer=\"adam\")"
   ]
  },
  {
   "cell_type": "code",
   "execution_count": 24,
   "metadata": {},
   "outputs": [
    {
     "data": {
      "text/plain": [
       "598"
      ]
     },
     "execution_count": 24,
     "metadata": {},
     "output_type": "execute_result"
    }
   ],
   "source": [
    "del data\n",
    "del data_train\n",
    "gc.collect()"
   ]
  },
  {
   "cell_type": "code",
   "execution_count": 25,
   "metadata": {},
   "outputs": [
    {
     "name": "stdout",
     "output_type": "stream",
     "text": [
      "Epoch 1/10\n",
      "1/1 [==============================] - 16s 16s/step - loss: 0.2191 - accuracy: 0.9167 - val_loss: 2.9883 - val_accuracy: 0.2500\n",
      "Epoch 2/10\n",
      "1/1 [==============================] - 15s 15s/step - loss: 0.8059 - accuracy: 0.6667 - val_loss: 5.3393 - val_accuracy: 0.2500\n",
      "Epoch 3/10\n",
      "1/1 [==============================] - 15s 15s/step - loss: 0.0504 - accuracy: 1.0000 - val_loss: 8.9847 - val_accuracy: 0.2500\n",
      "Epoch 4/10\n",
      "1/1 [==============================] - 15s 15s/step - loss: 0.1444 - accuracy: 0.9167 - val_loss: 12.4272 - val_accuracy: 0.2500\n",
      "Epoch 5/10\n",
      "1/1 [==============================] - 16s 16s/step - loss: 0.2689 - accuracy: 0.8333 - val_loss: 12.5868 - val_accuracy: 0.2500\n",
      "Epoch 6/10\n",
      "1/1 [==============================] - 15s 15s/step - loss: 0.0168 - accuracy: 1.0000 - val_loss: 12.7517 - val_accuracy: 0.2500\n",
      "Epoch 7/10\n",
      "1/1 [==============================] - 15s 15s/step - loss: 0.0077 - accuracy: 1.0000 - val_loss: 13.0528 - val_accuracy: 0.2500\n",
      "Epoch 8/10\n",
      "1/1 [==============================] - 15s 15s/step - loss: 0.0025 - accuracy: 1.0000 - val_loss: 13.3983 - val_accuracy: 0.2500\n",
      "Epoch 9/10\n",
      "1/1 [==============================] - 16s 16s/step - loss: 0.0023 - accuracy: 1.0000 - val_loss: 14.0131 - val_accuracy: 0.0000e+00\n",
      "Epoch 10/10\n",
      "1/1 [==============================] - 16s 16s/step - loss: 6.2344e-04 - accuracy: 1.0000 - val_loss: 14.8296 - val_accuracy: 0.0000e+00\n"
     ]
    },
    {
     "data": {
      "text/plain": [
       "<keras.callbacks.History at 0x7f8f9b450f70>"
      ]
     },
     "execution_count": 25,
     "metadata": {},
     "output_type": "execute_result"
    }
   ],
   "source": [
    "# Final preparation\n",
    "X_train, y_train, X_test, y_test = tf.convert_to_tensor(X_train), tf.convert_to_tensor(y_train), tf.convert_to_tensor(X_test), tf.convert_to_tensor(y_test)\n",
    "\n",
    "# Train the model\n",
    "model_cnn.fit(X_train, y_train, batch_size=32, epochs=10, validation_data=(X_test, y_test))"
   ]
  },
  {
   "cell_type": "code",
   "execution_count": 26,
   "metadata": {},
   "outputs": [],
   "source": [
    "# Save the model\n",
    "import os\n",
    "model_cnn.save(os.path.join(os.getcwd(), 'cnn.h5'))"
   ]
  },
  {
   "cell_type": "code",
   "execution_count": 27,
   "metadata": {},
   "outputs": [],
   "source": [
    "# Signal that the script finished\n",
    "with open('train-status.txt', 'w') as file: file.write('1')"
   ]
  },
  {
   "cell_type": "code",
   "execution_count": null,
   "metadata": {},
   "outputs": [],
   "source": []
  }
 ],
 "metadata": {
  "kernelspec": {
   "display_name": "general",
   "language": "python",
   "name": "python3"
  },
  "language_info": {
   "codemirror_mode": {
    "name": "ipython",
    "version": 3
   },
   "file_extension": ".py",
   "mimetype": "text/x-python",
   "name": "python",
   "nbconvert_exporter": "python",
   "pygments_lexer": "ipython3",
   "version": "3.9.16"
  },
  "orig_nbformat": 4
 },
 "nbformat": 4,
 "nbformat_minor": 2
}
